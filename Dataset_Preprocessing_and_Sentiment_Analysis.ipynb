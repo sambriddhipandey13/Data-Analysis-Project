{
  "nbformat": 4,
  "nbformat_minor": 0,
  "metadata": {
    "colab": {
      "provenance": []
    },
    "kernelspec": {
      "name": "python3",
      "display_name": "Python 3"
    },
    "language_info": {
      "name": "python"
    }
  },
  "cells": [
    {
      "cell_type": "markdown",
      "source": [
        "**Amazon Review Dataset preprocessing and Sentiment Analysis**"
      ],
      "metadata": {
        "id": "PdRgQCcnJZb3"
      }
    },
    {
      "cell_type": "code",
      "execution_count": null,
      "metadata": {
        "id": "andF5EFCCLYH"
      },
      "outputs": [],
      "source": [
        "#Importing all the libraries\n",
        "import re\n",
        "\n",
        "import pandas as pd\n",
        "\n",
        "import nltk\n",
        "nltk.download('stopwords')\n",
        "from nltk.corpus import stopwords\n",
        "nltk.download('vader_lexicon')\n",
        "from nltk.sentiment.vader import SentimentIntensityAnalyzer\n",
        "\n",
        "import spacy\n",
        "\n",
        "from wordcloud import WordCloud\n",
        "\n",
        "import matplotlib.pyplot as plt\n",
        "plt.style.use('ggplot')"
      ]
    },
    {
      "cell_type": "code",
      "source": [
        "#Reading the file\n",
        "df = pd.read_csv(\"/content/amazon_product_reviews.csv\", on_bad_lines = \"skip\")"
      ],
      "metadata": {
        "id": "DnLclB-eE4Ys"
      },
      "execution_count": 53,
      "outputs": []
    },
    {
      "cell_type": "code",
      "source": [
        "#Changing all the reviews to lower case\n",
        "df['reviews'] = df['Reviews'].str.lower()"
      ],
      "metadata": {
        "id": "TM229PtRQ1tU"
      },
      "execution_count": 54,
      "outputs": []
    },
    {
      "cell_type": "code",
      "source": [
        "#Removing all the punctuations in the reviews\n",
        "df['reviews'] = df['reviews'].str.replace('[^\\w\\s]', '')"
      ],
      "metadata": {
        "id": "XJUvlUXOTt7D"
      },
      "execution_count": null,
      "outputs": []
    },
    {
      "cell_type": "code",
      "source": [
        "#Removing emojis in the reviews\n",
        "emoji_pattern = re.compile(\"[\"\n",
        "                           u\"\\U0001F600-\\U0001F64F\"\n",
        "                           u\"\\U0001F300-\\U0001F5FF\"\n",
        "                           u\"\\U0001F680-\\U0001F6FF\"\n",
        "                           u\"\\U0001F1E0-\\U0001F1FF\"\n",
        "                           u\"\\U00002500-\\U00002BEF\"\n",
        "                           u\"\\U00002702-\\U000027B0\"\n",
        "                           u\"\\U00002702-\\U000027B0\"\n",
        "                           u\"\\U000024C2-\\U0001F251\"\n",
        "                           u\"\\U0001f926-\\U0001f937\"\n",
        "                           u\"\\U00010000-\\U0010ffff\"\n",
        "                           u\"\\u2640-\\u2642\"\n",
        "                           u\"\\u2600-\\u2B55\"\n",
        "                           u\"\\u200d\"\n",
        "                           u\"\\u23cf\"\n",
        "                           u\"\\u23e9\"\n",
        "                           u\"\\u231a\"\n",
        "                           u\"\\ufe0f\"\n",
        "                           u\"\\u3030\"\n",
        "                           \"]+\", flags=re.UNICODE)\n",
        "df['reviews'] = df['reviews'].apply(lambda x: emoji_pattern.sub(r'', x))"
      ],
      "metadata": {
        "id": "h1cPVvqAVFTr"
      },
      "execution_count": 33,
      "outputs": []
    },
    {
      "cell_type": "code",
      "source": [
        "#Removing stop words in the reviews\n",
        "stop = stopwords.words('english')\n",
        "df['reviews'] = df['reviews'].apply(lambda x: \" \".join(x for x in x.split() if x not in stop))"
      ],
      "metadata": {
        "id": "fjJKnP06X3oe"
      },
      "execution_count": 56,
      "outputs": []
    },
    {
      "cell_type": "code",
      "source": [
        "#Using Lemmatization\n",
        "nlp = spacy.load('en_core_web_sm')\n",
        "def lemmatize_text(text):\n",
        "    doc = nlp(text)\n",
        "    lemmatized_tokens = [token.lemma_ for token in doc]\n",
        "    return ' '.join(lemmatized_tokens)\n",
        "df['reviews'] = df['reviews'].apply(lemmatize_text)"
      ],
      "metadata": {
        "id": "IfIFaTZ0ZD2E"
      },
      "execution_count": 57,
      "outputs": []
    },
    {
      "cell_type": "code",
      "source": [
        "#Making a bar graph of ratings\n",
        "fig = df['Ratings'].value_counts().sort_index().plot.bar(title = \"User's Ratings on Amazon Alexa\", color = \"blue\")\n",
        "fig.set_xlabel(\"Ratings\")"
      ],
      "metadata": {
        "id": "VQnpXxml4_b9"
      },
      "execution_count": null,
      "outputs": []
    },
    {
      "cell_type": "code",
      "source": [
        "#Making a Word Cloud of reviews\n",
        "text = ' '.join(df['reviews'])\n",
        "wordcloud = WordCloud(width=800, height=400, background_color='white', max_font_size = 130).generate(text)\n",
        "plt.figure(figsize=(10, 5))\n",
        "plt.imshow(wordcloud, interpolation='sinc')\n",
        "plt.axis('off')\n",
        "plt.show()"
      ],
      "metadata": {
        "id": "sQFMOFB2YPE_"
      },
      "execution_count": null,
      "outputs": []
    },
    {
      "cell_type": "code",
      "source": [
        "#Generating polarity of the reviews as positive, negative, or neutral\n",
        "sentiments = SentimentIntensityAnalyzer()\n",
        "df[\"Positive\"] = [sentiments.polarity_scores(reviews)[\"pos\"] for reviews in df[\"reviews\"]]\n",
        "df[\"Negative\"] = [sentiments.polarity_scores(reviews)[\"neg\"] for reviews in df[\"reviews\"]]\n",
        "df[\"Neutral\"] = [sentiments.polarity_scores(reviews)[\"neu\"] for reviews in df[\"reviews\"]]"
      ],
      "metadata": {
        "id": "bXr1Y0EDXR0D"
      },
      "execution_count": 60,
      "outputs": []
    },
    {
      "cell_type": "code",
      "source": [
        "#Creating a function to get overall sentiment of the reviews\n",
        "def get_overall_sentiment(row):\n",
        "    if row[\"Positive\"] > row[\"Negative\"]:\n",
        "        return \"positive\"\n",
        "    elif row[\"Positive\"] < row[\"Negative\"]:\n",
        "        return \"negative\"\n",
        "    else:\n",
        "        return \"neutral\"\n",
        "\n",
        "df[\"OverallSentiment\"] = df.apply(get_overall_sentiment, axis=1)"
      ],
      "metadata": {
        "id": "QBJ3V7N8389I"
      },
      "execution_count": 76,
      "outputs": []
    },
    {
      "cell_type": "code",
      "source": [
        "df"
      ],
      "metadata": {
        "id": "r5yzolVJfe7q"
      },
      "execution_count": null,
      "outputs": []
    },
    {
      "cell_type": "code",
      "source": [
        "#Creating pie chart to graphically represent the overall sentiment\n",
        "pie_chart = df['OverallSentiment'].value_counts().plot.pie(title=\"Sentiment Pie Chart\", colors=\"green\")\n",
        "pie_chart.set_ylabel('')\n",
        "plt.show()"
      ],
      "metadata": {
        "id": "Ta0gAULKe5IB"
      },
      "execution_count": null,
      "outputs": []
    }
  ]
}